{
  "nbformat": 4,
  "nbformat_minor": 0,
  "metadata": {
    "colab": {
      "provenance": [],
      "collapsed_sections": [
        "BBeyBs7eeraw",
        "J5l8n_qGfQky",
        "fUhLkez5mf__",
        "mMKwZRdFgCTM",
        "-CqqBorxnxet"
      ],
      "mount_file_id": "1wRutERhK9UjxnLhMbMQ2vJticgVxHMMI",
      "authorship_tag": "ABX9TyOeZCo4bIwKX3sFm3zFBcDJ",
      "include_colab_link": true
    },
    "kernelspec": {
      "name": "python3",
      "display_name": "Python 3"
    },
    "language_info": {
      "name": "python"
    }
  },
  "cells": [
    {
      "cell_type": "markdown",
      "metadata": {
        "id": "view-in-github",
        "colab_type": "text"
      },
      "source": [
        "<a href=\"https://colab.research.google.com/github/jacmal/Crypto-Anaysis/blob/main/Crypto_Analysis_Colab.ipynb\" target=\"_parent\"><img src=\"https://colab.research.google.com/assets/colab-badge.svg\" alt=\"Open In Colab\"/></a>"
      ]
    },
    {
      "cell_type": "markdown",
      "source": [
        "# ANALIZA RYNKU KRYPTOWALUT"
      ],
      "metadata": {
        "id": "BBeyBs7eeraw"
      }
    },
    {
      "cell_type": "markdown",
      "source": [
        "## Opis"
      ],
      "metadata": {
        "id": "UgqcP-OtfBaU"
      }
    },
    {
      "cell_type": "markdown",
      "source": [
        "# INSTALACJA BIBLIOTEK"
      ],
      "metadata": {
        "id": "J5l8n_qGfQky"
      }
    },
    {
      "cell_type": "code",
      "execution_count": null,
      "metadata": {
        "id": "zo7T0NWld0tH",
        "colab": {
          "base_uri": "https://localhost:8080/"
        },
        "outputId": "80d83b80-26be-4d11-b788-b2a874214eb2"
      },
      "outputs": [
        {
          "output_type": "stream",
          "name": "stdout",
          "text": [
            "Looking in indexes: https://pypi.org/simple, https://us-python.pkg.dev/colab-wheels/public/simple/\n",
            "Requirement already satisfied: yfinance in /usr/local/lib/python3.9/dist-packages (0.2.18)\n",
            "Requirement already satisfied: html5lib>=1.1 in /usr/local/lib/python3.9/dist-packages (from yfinance) (1.1)\n",
            "Requirement already satisfied: requests>=2.26 in /usr/local/lib/python3.9/dist-packages (from yfinance) (2.27.1)\n",
            "Requirement already satisfied: frozendict>=2.3.4 in /usr/local/lib/python3.9/dist-packages (from yfinance) (2.3.7)\n",
            "Requirement already satisfied: pytz>=2022.5 in /usr/local/lib/python3.9/dist-packages (from yfinance) (2022.7.1)\n",
            "Requirement already satisfied: pandas>=1.3.0 in /usr/local/lib/python3.9/dist-packages (from yfinance) (1.5.3)\n",
            "Requirement already satisfied: numpy>=1.16.5 in /usr/local/lib/python3.9/dist-packages (from yfinance) (1.22.4)\n",
            "Requirement already satisfied: multitasking>=0.0.7 in /usr/local/lib/python3.9/dist-packages (from yfinance) (0.0.11)\n",
            "Requirement already satisfied: cryptography>=3.3.2 in /usr/local/lib/python3.9/dist-packages (from yfinance) (40.0.2)\n",
            "Requirement already satisfied: beautifulsoup4>=4.11.1 in /usr/local/lib/python3.9/dist-packages (from yfinance) (4.11.2)\n",
            "Requirement already satisfied: lxml>=4.9.1 in /usr/local/lib/python3.9/dist-packages (from yfinance) (4.9.2)\n",
            "Requirement already satisfied: appdirs>=1.4.4 in /usr/local/lib/python3.9/dist-packages (from yfinance) (1.4.4)\n",
            "Requirement already satisfied: soupsieve>1.2 in /usr/local/lib/python3.9/dist-packages (from beautifulsoup4>=4.11.1->yfinance) (2.4.1)\n",
            "Requirement already satisfied: cffi>=1.12 in /usr/local/lib/python3.9/dist-packages (from cryptography>=3.3.2->yfinance) (1.15.1)\n",
            "Requirement already satisfied: six>=1.9 in /usr/local/lib/python3.9/dist-packages (from html5lib>=1.1->yfinance) (1.16.0)\n",
            "Requirement already satisfied: webencodings in /usr/local/lib/python3.9/dist-packages (from html5lib>=1.1->yfinance) (0.5.1)\n",
            "Requirement already satisfied: python-dateutil>=2.8.1 in /usr/local/lib/python3.9/dist-packages (from pandas>=1.3.0->yfinance) (2.8.2)\n",
            "Requirement already satisfied: urllib3<1.27,>=1.21.1 in /usr/local/lib/python3.9/dist-packages (from requests>=2.26->yfinance) (1.26.15)\n",
            "Requirement already satisfied: certifi>=2017.4.17 in /usr/local/lib/python3.9/dist-packages (from requests>=2.26->yfinance) (2022.12.7)\n",
            "Requirement already satisfied: charset-normalizer~=2.0.0 in /usr/local/lib/python3.9/dist-packages (from requests>=2.26->yfinance) (2.0.12)\n",
            "Requirement already satisfied: idna<4,>=2.5 in /usr/local/lib/python3.9/dist-packages (from requests>=2.26->yfinance) (3.4)\n",
            "Requirement already satisfied: pycparser in /usr/local/lib/python3.9/dist-packages (from cffi>=1.12->cryptography>=3.3.2->yfinance) (2.21)\n"
          ]
        }
      ],
      "source": [
        "!pip install yfinance"
      ]
    },
    {
      "cell_type": "code",
      "source": [],
      "metadata": {
        "id": "9Xx2Hojaciir"
      },
      "execution_count": null,
      "outputs": []
    },
    {
      "cell_type": "markdown",
      "source": [
        "# IMPORT BIBLIOTEK"
      ],
      "metadata": {
        "id": "I3clS8DsfZau"
      }
    },
    {
      "cell_type": "code",
      "source": [
        "import pandas as pd\n",
        "import numpy as np\n",
        "import scipy.stats as stats\n",
        "\n",
        "# pobrane biblioteki\n",
        "import yfinance as yf\n",
        "\n",
        "import matplotlib.pyplot as plt\n",
        "import seaborn as sns\n",
        "\n",
        "from scipy.signal import argrelextrema"
      ],
      "metadata": {
        "id": "T6gP9rZyfcU8"
      },
      "execution_count": null,
      "outputs": []
    },
    {
      "cell_type": "markdown",
      "source": [
        "# USTAWIENIA"
      ],
      "metadata": {
        "id": "ZP4p2krZfoR_"
      }
    },
    {
      "cell_type": "code",
      "source": [
        "MAIN_PATH = \"/content/drive/MyDrive/Projects/4_Crypto_Analysis\"\n",
        "DIR_NAME = \"CMA\""
      ],
      "metadata": {
        "id": "MN-hp-pPlvzI"
      },
      "execution_count": null,
      "outputs": []
    },
    {
      "cell_type": "code",
      "source": [
        "main_dir_path = os.path.join(MAIN_PATH, DIR_NAME)\n",
        "data_dir_path = os.path.join(main_dir_path, \"Market_Data\")"
      ],
      "metadata": {
        "id": "wSz_jvTpqugy"
      },
      "execution_count": null,
      "outputs": []
    },
    {
      "cell_type": "markdown",
      "source": [
        "## config.py"
      ],
      "metadata": {
        "id": "fUhLkez5mf__"
      }
    },
    {
      "cell_type": "code",
      "source": [
        "import json\n",
        "import os\n",
        "import configparser\n",
        "\n",
        "import pandas as pd\n",
        "\n",
        "\n",
        "class Config:\n",
        "    def __init__(self):\n",
        "        self.existsc = False\n",
        "\n",
        "    def exists(self): \n",
        "        if self.pathc == None:\n",
        "            self.existsc = False\n",
        "            print('Path is type None')\n",
        "        elif type(self.pathc) == str and type(self.namec) == str and len(self.namec) > 0:\n",
        "            self.path_config = os.path.join(self.pathc, self.namec)\n",
        "            if os.path.exists(self.path_config):\n",
        "                self.existsc = True\n",
        "                print('Config exists!')\n",
        "                return self.existsc\n",
        "            else:\n",
        "                self.existsc = False\n",
        "                print('Config not exists')\n",
        "                return self.existsc\n",
        "        else:\n",
        "            print('wrong config path')\n",
        "            return self.existsc\n",
        "\n",
        "    def _save_json(self):\n",
        "        print(self.config)\n",
        "        print(self.path_config)\n",
        "        with open(self.path_config, 'w') as json_file:\n",
        "            json.dump(self.config, json_file)\n",
        "\n",
        "    def _load_json(self):\n",
        "        with open(self.path_config) as json_file:\n",
        "            data = json.load(json_file)\n",
        "        print(data)\n",
        "        self.config = data\n",
        "\n",
        "    def _save_ini(self):\n",
        "        sections = []\n",
        "        config_file = configparser.ConfigParser()\n",
        "        \n",
        "        for i in list(self.config.keys()):\n",
        "            if self.config[i][0] not in sections:\n",
        "                sections.append(self.config[i][0])\n",
        "                config_file.add_section(self.config[i][0])\n",
        "            \n",
        "            config_file.set(self.config[i][0], i, self.config[i][1])\n",
        "\n",
        "        with open(self.path_config, 'w') as ini_file:\n",
        "            config_file.write(ini_file)\n",
        "            ini_file.flush()\n",
        "            ini_file.close()\n",
        "\n",
        "    def _load_ini(self):\n",
        "        config_file = configparser.ConfigParser()\n",
        "        config_file.read(self.path_config)\n",
        "        \n",
        "        config_keys = list(config_file.keys())\n",
        "        #config_keys.remove('DEFAULT')\n",
        "        self.config = {}\n",
        "\n",
        "        for s in config_keys:\n",
        "            for n in config_file[s]:\n",
        "                print(s, n, config_file[s][n])\n",
        "                self.config[n] = (s, config_file[s][n])\n",
        "            print()\n",
        "\n",
        "################################################################################ \n",
        "    \n",
        "    def set_path(self, config_path, config_name, mode=\"ini\"):\n",
        "        self.pathc = config_path\n",
        "        self.namec = config_name\n",
        "        self.mode = mode\n",
        "        \n",
        "        name = self.namec + \".\" + self.mode\n",
        "        self.path_config = os.path.join(self.pathc, name)\n",
        "\n",
        "    def reset(self, section_name=\"MAIN\", add_main=True):\n",
        "        self.config = {}\n",
        "        if add_main == True:\n",
        "            self.config[\"name\"] = (section_name, self.namec)\n",
        "            self.config[\"path\"] = (section_name, self.pathc)\n",
        "            self.config[\"mode\"] = (section_name, self.mode)\n",
        "\n",
        "    def addp(self, name, section, val):\n",
        "        self.config[name] = (section, val)\n",
        "\n",
        "    def save(self):\n",
        "        if self.mode == \"ini\":\n",
        "            print('ini mode')\n",
        "            self._save_ini()\n",
        "        elif self.mode == \"json\":\n",
        "            print('json mode')\n",
        "            self._save_json()\n",
        "        print(self.path_config)\n",
        "        print(\"Plik konfiguracyjny zapisany!\")\n",
        "\n",
        "    def load_last(self):\n",
        "        if self.mode == \"ini\":\n",
        "            self._load_ini()\n",
        "        elif self.mode == \"json\":\n",
        "            self._load_json()\n",
        "\n",
        "    def load_path(self, config_path, config_name):\n",
        "        self.set_path(config_path, config_name, mode='json')\n",
        "        self.reset()\n",
        "        \n",
        "        if self.mode == \"ini\":\n",
        "            print('ini mode')\n",
        "            self._load_ini()\n",
        "        \n",
        "        elif self.mode == \"json\":\n",
        "            print('json mode')\n",
        "            self._load_json()\n",
        "        \n",
        "        print(self.path_config)\n",
        "        print(\"Plik konfiguracyjny wczytany!\")\n",
        "\n",
        "\n",
        "    def getp(self, name):\n",
        "        return self.config[name][1]\n",
        "\n",
        "    \n",
        "    def return_cf_data(self, data_type=\"df\"):\n",
        "        data_dict = {}\n",
        "        for k, v in self.config.items():\n",
        "            print(k, v)"
      ],
      "metadata": {
        "id": "cxWsfNdlfrXI"
      },
      "execution_count": null,
      "outputs": []
    },
    {
      "cell_type": "markdown",
      "source": [
        "# INSTALACJA"
      ],
      "metadata": {
        "id": "Tl6Kt3N_oFrJ"
      }
    },
    {
      "cell_type": "code",
      "source": [
        "def install():\n",
        "    os.mkdir(main_dir_path)\n",
        "    os.mkdir(data_dir_path)"
      ],
      "metadata": {
        "id": "QVRcfhyAoJUt"
      },
      "execution_count": null,
      "outputs": []
    },
    {
      "cell_type": "code",
      "source": [
        "if not os.path.exists(main_dir_path):\n",
        "    install()\n",
        "\n",
        "else:\n",
        "    print(\"Aplication is allready installed!\")"
      ],
      "metadata": {
        "id": "yMZDKbG2soiy"
      },
      "execution_count": null,
      "outputs": []
    },
    {
      "cell_type": "markdown",
      "source": [
        "# INICJALIZACJA"
      ],
      "metadata": {
        "id": "qqx0u_xAmS1t"
      }
    },
    {
      "cell_type": "code",
      "source": [],
      "metadata": {
        "id": "vPTT9VY8mXcn"
      },
      "execution_count": null,
      "outputs": []
    },
    {
      "cell_type": "markdown",
      "source": [
        "# POBIERANIE DANYCH RYNKU KRYPTOWALUT"
      ],
      "metadata": {
        "id": "InU8JBzifsRk"
      }
    },
    {
      "cell_type": "markdown",
      "source": [
        "## BINANCE"
      ],
      "metadata": {
        "id": "mMKwZRdFgCTM"
      }
    },
    {
      "cell_type": "markdown",
      "source": [
        "### binance_api.py"
      ],
      "metadata": {
        "id": "-CqqBorxnxet"
      }
    },
    {
      "cell_type": "code",
      "source": [
        "# IMPORT LIBRARIES\n",
        "import pandas as pd\n",
        "import numpy as np\n",
        "import time\n",
        "\n",
        "import configparser\n",
        "import binance\n",
        "\n",
        "from binance import Client, ThreadedWebsocketManager, ThreadedDepthCacheManager\n",
        "from date_time_functions import set_datetime, datetime_now, datetime_clean\n",
        "\n",
        "\n",
        "class BinanceAPI:\n",
        "    def __init__(self, test_mode=True):\n",
        "        self.client = None\n",
        "        self.last_order = None\n",
        "        self.test_mode = test_mode\n",
        "        \n",
        "        # Binance kline columns list\n",
        "        self.columns = ['Open Time', 'Open', 'High', 'Low', 'Close', 'Volume', \n",
        "                        'Close Time', 'Quote asset volume', 'Number of trades', \n",
        "                        'Taker buy base asset volume', 'Taker buy quote asset volume', 'Ignore']\n",
        "\n",
        "    \n",
        "    def _client_init(self):\n",
        "        self.client = Client(self.api_key, self.sec_key, tld=\"com\", )\n",
        "\n",
        "################################################################################\n",
        "\n",
        "    def load_api_keys_file(self, keys_file_path):\n",
        "        config_keys = configparser.ConfigParser()\n",
        "        config_keys.read(keys_file_path)\n",
        "\n",
        "        self.api_key = config_keys['API_KEYS']['api_key']\n",
        "        self.sec_key = config_keys['API_KEYS']['sec_key']\n",
        "        \n",
        "        self._client_init()\n",
        "    \n",
        "    \n",
        "    def test_connection(self):\n",
        "        print(self.client.ping())\n",
        "    \n",
        "    \n",
        "    def get_account_info(self):\n",
        "        return self.client.get_account()\n",
        "\n",
        "    \n",
        "    def get_balances(self):\n",
        "        account = self.client.get_account()\n",
        "        #balances = account[\"balances\"]\n",
        "        time_updete = pd.to_datetime(account[\"updateTime\"], unit=\"ms\")\n",
        "        df_balances = pd.DataFrame(account[\"balances\"])\n",
        "        \n",
        "        df_balances[\"free\"] = pd.to_numeric(df_balances.free, errors=\"coerce\")\n",
        "        df_balances[\"locked\"] = pd.to_numeric(df_balances.locked, errors=\"coerce\")\n",
        "        \n",
        "        return (df_balances, time_updete)\n",
        "    \n",
        "    def get_balance(self, symbol, free_lock=\"free\"):\n",
        "        return float(self.client.get_asset_balance(asset=symbol)[free_lock])\n",
        "\n",
        "    \n",
        "    def get_status(self):\n",
        "        return self.client.get_system_status()\n",
        "\n",
        "    \n",
        "    def get_fee(self):\n",
        "        return self.client.get_trade_fee()\n",
        "\n",
        "    \n",
        "    def get_account_snapshot(self, snap_type=\"SPOT\"):\n",
        "        return self.client.get_account_snapshot(type=snap_type)\n",
        "\n",
        "\n",
        "    def get_market_data(self, symbol, interval, start_date, history=\"False\", datetime_idx=True):\n",
        "        '''\n",
        "        if history == True:\n",
        "            start_date = ''\n",
        "        '''\n",
        "\n",
        "        if interval == '1DAY':\n",
        "            hist_data = self.client.get_historical_klines(symbol, Client.KLINE_INTERVAL_1DAY, start_date)\n",
        "        elif interval == '1HOUR':\n",
        "            hist_data = self.client.get_historical_klines(symbol, Client.KLINE_INTERVAL_1HOUR, start_date)\n",
        "        elif interval == '15MINUTE':\n",
        "            hist_data = self.client.get_historical_klines(symbol, Client.KLINE_INTERVAL_15MINUTE, start_date)\n",
        "        elif interval == '1MINUTE':\n",
        "            hist_data = self.client.get_historical_klines(symbol, Client.KLINE_INTERVAL_1MINUTE, start_date)\n",
        "        \n",
        "        #print(hist_data)\n",
        "        \n",
        "        df = pd.DataFrame(hist_data)\n",
        "        df.columns = self.columns\n",
        "             \n",
        "        df['Open Time'] = pd.to_datetime(df['Open Time']/1000, unit='s')\n",
        "        df['Close Time'] = pd.to_datetime(df['Close Time']/1000, unit='s')\n",
        "\n",
        "        numeric_columns = ['Open', 'High', 'Low', 'Close', 'Volume']\n",
        "        df[numeric_columns] = df[numeric_columns].apply(pd.to_numeric, axis=1)\n",
        "\n",
        "        df = df.iloc[:, :6]\n",
        "        \n",
        "        if datetime_idx == True:\n",
        "            df.set_index(\"Open Time\", inplace=True, drop=True)\n",
        "            return df\n",
        "        else:\n",
        "            return df\n",
        "    \n",
        "    def market_order(self, osymbol, oside, oquantity):\n",
        "        self.last_order = self.client.create_order(symbol=osymbol, side=oside, quantity=oquantity, type=\"MARKET\")\n",
        "        return self.last_order"
      ],
      "metadata": {
        "id": "U7kAIEqlgBw-"
      },
      "execution_count": null,
      "outputs": []
    },
    {
      "cell_type": "markdown",
      "source": [
        "## TODO TITLE: FREE CRYPTO API"
      ],
      "metadata": {
        "id": "gSUESeGBgIT2"
      }
    },
    {
      "cell_type": "code",
      "source": [],
      "metadata": {
        "id": "09nlhgpVf61x"
      },
      "execution_count": null,
      "outputs": []
    }
  ]
}