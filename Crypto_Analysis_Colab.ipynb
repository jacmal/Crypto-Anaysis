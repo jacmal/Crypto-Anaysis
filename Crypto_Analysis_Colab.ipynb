{
  "nbformat": 4,
  "nbformat_minor": 0,
  "metadata": {
    "colab": {
      "provenance": [],
      "toc_visible": true,
      "mount_file_id": "1wRutERhK9UjxnLhMbMQ2vJticgVxHMMI",
      "authorship_tag": "ABX9TyOkshwPNfGOSw1kItQ7JOGt",
      "include_colab_link": true
    },
    "kernelspec": {
      "name": "python3",
      "display_name": "Python 3"
    },
    "language_info": {
      "name": "python"
    }
  },
  "cells": [
    {
      "cell_type": "markdown",
      "metadata": {
        "id": "view-in-github",
        "colab_type": "text"
      },
      "source": [
        "<a href=\"https://colab.research.google.com/github/jacmal/Crypto-Anaysis/blob/main/Crypto_Analysis_Colab.ipynb\" target=\"_parent\"><img src=\"https://colab.research.google.com/assets/colab-badge.svg\" alt=\"Open In Colab\"/></a>"
      ]
    },
    {
      "cell_type": "markdown",
      "source": [
        "# ANALIZA RYNKU KRYPTOWALUT"
      ],
      "metadata": {
        "id": "BBeyBs7eeraw"
      }
    },
    {
      "cell_type": "markdown",
      "source": [
        "## Opis"
      ],
      "metadata": {
        "id": "UgqcP-OtfBaU"
      }
    },
    {
      "cell_type": "markdown",
      "source": [
        "# INSTALACJA BIBLIOTEK"
      ],
      "metadata": {
        "id": "J5l8n_qGfQky"
      }
    },
    {
      "cell_type": "code",
      "execution_count": null,
      "metadata": {
        "id": "zo7T0NWld0tH"
      },
      "outputs": [],
      "source": [
        "# CRYPTO ANLIZA"
      ]
    },
    {
      "cell_type": "markdown",
      "source": [
        "# IMPORT BIBLIOTEK"
      ],
      "metadata": {
        "id": "I3clS8DsfZau"
      }
    },
    {
      "cell_type": "code",
      "source": [],
      "metadata": {
        "id": "T6gP9rZyfcU8"
      },
      "execution_count": null,
      "outputs": []
    },
    {
      "cell_type": "markdown",
      "source": [
        "# USTAWIENIA"
      ],
      "metadata": {
        "id": "ZP4p2krZfoR_"
      }
    },
    {
      "cell_type": "code",
      "source": [],
      "metadata": {
        "id": "cxWsfNdlfrXI"
      },
      "execution_count": null,
      "outputs": []
    },
    {
      "cell_type": "markdown",
      "source": [
        "# POBIERANIE DANYCH RYNKU KRYPTOWALUT"
      ],
      "metadata": {
        "id": "InU8JBzifsRk"
      }
    },
    {
      "cell_type": "markdown",
      "source": [
        "## BINANCE"
      ],
      "metadata": {
        "id": "mMKwZRdFgCTM"
      }
    },
    {
      "cell_type": "code",
      "source": [],
      "metadata": {
        "id": "U7kAIEqlgBw-"
      },
      "execution_count": null,
      "outputs": []
    },
    {
      "cell_type": "markdown",
      "source": [
        "## TODO TITLE: FREE CRYPTO API"
      ],
      "metadata": {
        "id": "gSUESeGBgIT2"
      }
    },
    {
      "cell_type": "code",
      "source": [],
      "metadata": {
        "id": "09nlhgpVf61x"
      },
      "execution_count": null,
      "outputs": []
    }
  ]
}